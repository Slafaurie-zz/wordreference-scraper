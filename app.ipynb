{
 "cells": [
  {
   "cell_type": "code",
   "execution_count": 1,
   "metadata": {
    "tags": []
   },
   "outputs": [
    {
     "name": "stdin",
     "output_type": "stream",
     "text": [
      "Enter the file path wich contain the word to lookup:  C:\\Users\\chanl\\Documents\\hp-pc\\wordreference-scraper\\data\\test_short.xlsx\n",
      "Enter the languages (en and es supported):  en\n"
     ]
    },
    {
     "name": "stdout",
     "output_type": "stream",
     "text": [
      "0 of 9\n",
      "absolutely success!\n",
      "accept success!\n",
      "achieve success!\n",
      "act success!\n",
      "action success!\n",
      "activity success!\n",
      "actor success!\n",
      "actually success!\n",
      "add success!\n",
      "Saved\n"
     ]
    }
   ],
   "source": [
    "import requests\n",
    "from bs4 import BeautifulSoup\n",
    "import time\n",
    "import pandas as pd\n",
    "from utils_scraper import *\n",
    "from utils_app import *\n",
    "import os\n",
    "\n",
    "wordref_req = requester(requests.session())\n",
    "wordref_req.update_headers()\n",
    "\n",
    "path_file = input(\"Enter the file path wich contain the word to lookup: \")\n",
    "\n",
    "lang = input('Enter the languages (en and es supported): ')\n",
    "\n",
    "############\n",
    "words = pd.read_excel(path_file).iloc[:,0].values\n",
    "\n",
    "result_list = scrape_batch(requester = wordref_req, words = words, lang = lang)\n",
    "\n",
    "############\n",
    "df = process_list(result_list)\n",
    "\n",
    "path_save = os.path.dirname(path_file) + '/results.xlsx'\n",
    "\n",
    "df.to_excel(path_save, index = False, encoding = 'latin-1')\n",
    "\n",
    "print('Saved')\n",
    "\n",
    "path = r'C:\\Users\\chanl\\Documents\\hp-pc\\wordreference-scraper\\data\\test_short.xlsx'"
   ]
  }
 ],
 "metadata": {
  "kernelspec": {
   "display_name": "Python 3",
   "language": "python",
   "name": "python3"
  },
  "language_info": {
   "codemirror_mode": {
    "name": "ipython",
    "version": 3
   },
   "file_extension": ".py",
   "mimetype": "text/x-python",
   "name": "python",
   "nbconvert_exporter": "python",
   "pygments_lexer": "ipython3",
   "version": "3.8.5"
  }
 },
 "nbformat": 4,
 "nbformat_minor": 4
}
