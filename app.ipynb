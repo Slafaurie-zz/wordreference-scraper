{
 "metadata": {
  "language_info": {
   "codemirror_mode": {
    "name": "ipython",
    "version": 3
   },
   "file_extension": ".py",
   "mimetype": "text/x-python",
   "name": "python",
   "nbconvert_exporter": "python",
   "pygments_lexer": "ipython3",
   "version": 3
  },
  "orig_nbformat": 2,
  "kernelspec": {
   "name": "python_defaultSpec_1597520228729",
   "display_name": "Python 3.7.6 64-bit ('anaconda3': conda)"
  }
 },
 "nbformat": 4,
 "nbformat_minor": 2,
 "cells": [
  {
   "cell_type": "code",
   "execution_count": 12,
   "metadata": {
    "tags": []
   },
   "outputs": [
    {
     "output_type": "error",
     "ename": "NameError",
     "evalue": "name 'request' is not defined",
     "traceback": [
      "\u001b[1;31m---------------------------------------------------------------------------\u001b[0m",
      "\u001b[1;31mNameError\u001b[0m                                 Traceback (most recent call last)",
      "\u001b[1;32m<ipython-input-12-5630305f53ff>\u001b[0m in \u001b[0;36m<module>\u001b[1;34m\u001b[0m\n\u001b[0;32m     19\u001b[0m \u001b[1;33m\u001b[0m\u001b[0m\n\u001b[0;32m     20\u001b[0m \u001b[1;33m\u001b[0m\u001b[0m\n\u001b[1;32m---> 21\u001b[1;33m \u001b[0ms\u001b[0m \u001b[1;33m=\u001b[0m \u001b[0minit_session\u001b[0m\u001b[1;33m(\u001b[0m\u001b[0mrequest\u001b[0m\u001b[1;33m,\u001b[0m \u001b[0mheaders\u001b[0m\u001b[1;33m)\u001b[0m\u001b[1;33m\u001b[0m\u001b[1;33m\u001b[0m\u001b[0m\n\u001b[0m\u001b[0;32m     22\u001b[0m \u001b[1;33m\u001b[0m\u001b[0m\n\u001b[0;32m     23\u001b[0m \u001b[0mpath_file\u001b[0m \u001b[1;33m=\u001b[0m \u001b[0minput\u001b[0m\u001b[1;33m(\u001b[0m\u001b[1;34m\"Enter the file path wich contain the word to lookup: \"\u001b[0m\u001b[1;33m)\u001b[0m\u001b[1;33m\u001b[0m\u001b[1;33m\u001b[0m\u001b[0m\n",
      "\u001b[1;31mNameError\u001b[0m: name 'request' is not defined"
     ]
    }
   ],
   "source": [
    "import requests\n",
    "from bs4 import BeautifulSoup\n",
    "import time\n",
    "import pandas as pd\n",
    "from utils_scraper import *\n",
    "from utils_app import *\n",
    "import os\n",
    "\n",
    "###########\n",
    "headers = {\n",
    "    'accept': '*/*',\n",
    "'accept-encoding': 'gzip, deflate, br',\n",
    "'accept-language': 'es-ES,es;q=0.9,en;q=0.8,it;q=0.7',\n",
    "'sec-fetch-dest': 'empty',\n",
    "'sec-fetch-mode': 'cors',\n",
    "'sec-fetch-site': 'same-origin',\n",
    "'user-agent': 'Mozilla/5.0 (Windows NT 10.0; Win64; x64) AppleWebKit/537.36 (KHTML, like Gecko) Chrome/84.0.4147.89 Safari/537.36'\n",
    "    }\n",
    "\n",
    "\n",
    "s = init_session(requests, headers)\n",
    "\n",
    "path_file = input(\"Enter the file path wich contain the word to lookup: \")\n",
    "\n",
    "languages = input('Enter the languages (esen and enes supported): ')\n",
    "\n",
    "\n",
    "############\n",
    "words = pd.read_excel(path_file).iloc[:,0].values\n",
    "\n",
    "result_list = scrape_batch(s = s, words = words, languages = languages)\n",
    "\n",
    "############\n",
    "net_list = [ pd.DataFrame(x) for x in result_list]\n",
    "\n",
    "df = pd.concat(net_list, sort = False)\\\n",
    ".reset_index(drop = True)\\\n",
    ".apply(pd.Series.explode)\\\n",
    ".assign(FrEx=  lambda col: col['FrEx'].apply(lambda x: x[0] if len(x) > 0 else None),\n",
    "       ToEx = lambda col: col['ToEx'].apply(lambda x: x[0] if len(x) > 0 else None),\n",
    "        FrEx_len = lambda col: col['FrEx'].apply(lambda x: len(x.split()) if isinstance(x, str) else 0)\n",
    "                                           )\n",
    "\n",
    "path_save = os.path.dirname(path_file) + '/results.xlsx'\n",
    "\n",
    "df.to_excel(path_save, index = False, encoding = 'latin-1')\n",
    "\n",
    "print('Saved')"
   ]
  },
  {
   "cell_type": "code",
   "execution_count": null,
   "metadata": {},
   "outputs": [],
   "source": []
  }
 ]
}